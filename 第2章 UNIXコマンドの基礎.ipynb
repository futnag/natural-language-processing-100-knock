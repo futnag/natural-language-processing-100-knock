{
 "cells": [
  {
   "cell_type": "markdown",
   "metadata": {},
   "source": [
    "# 言語処理１００本ノック　２０１５　第二章"
   ]
  },
  {
   "cell_type": "code",
   "execution_count": 30,
   "metadata": {},
   "outputs": [
    {
     "name": "stdout",
     "output_type": "stream",
     "text": [
      "24\n",
      "b'      24 hightemp.txt\\n'\n"
     ]
    }
   ],
   "source": [
    "\"\"\"10. 行数のカウント\n",
    "行数をカウントせよ．確認にはwcコマンドを用いよ．\n",
    "\n",
    "\"\"\"\n",
    "\n",
    "with open(\"hightemp.txt\", \"r\") as t:\n",
    "    cnt = 0\n",
    "    for line in t:\n",
    "        cnt += 1\n",
    "    \n",
    "print(cnt)\n",
    "\n",
    "\"\"\"\n",
    "wc : テキスト・ファイルの行数，単語数，バイト数を表示\n",
    "\n",
    "-c, --bytes, --chars  バイト数のみを集計し表示する\n",
    "-w, --words           単語数のみ集計し表示する\n",
    "-l, --lines           行数のみ集計し表示する\n",
    "file                  集計するファイルを指定する\n",
    "\"\"\"\n",
    "import subprocess\n",
    "args = ['wc', '-l', 'hightemp.txt']\n",
    "res = subprocess.check_output(args)\n",
    "print(res)\n"
   ]
  },
  {
   "cell_type": "code",
   "execution_count": 38,
   "metadata": {},
   "outputs": [
    {
     "name": "stdout",
     "output_type": "stream",
     "text": [
      "['高知県 江川崎 41 2013-08-12\\n', '埼玉県 熊谷 40.9 2007-08-16\\n', '岐阜県 多治見 40.9 2007-08-16\\n', '山形県 山形 40.8 1933-07-25\\n', '山梨県 甲府 40.7 2013-08-10\\n', '和歌山県 かつらぎ 40.6 1994-08-08\\n', '静岡県 天竜 40.6 1994-08-04\\n', '山梨県 勝沼 40.5 2013-08-10\\n', '埼玉県 越谷 40.4 2007-08-16\\n', '群馬県 館林 40.3 2007-08-16\\n', '群馬県 上里見 40.3 1998-07-04\\n', '愛知県 愛西 40.3 1994-08-05\\n', '千葉県 牛久 40.2 2004-07-20\\n', '静岡県 佐久間 40.2 2001-07-24\\n', '愛媛県 宇和島 40.2 1927-07-22\\n', '山形県 酒田 40.1 1978-08-03\\n', '岐阜県 美濃 40 2007-08-16\\n', '群馬県 前橋 40 2001-07-24\\n', '千葉県 茂原 39.9 2013-08-11\\n', '埼玉県 鳩山 39.9 1997-07-05\\n', '大阪府 豊中 39.9 1994-08-08\\n', '山梨県 大月 39.9 1990-07-19\\n', '山形県 鶴岡 39.9 1978-08-03\\n', '愛知県 名古屋 39.9 1942-08-02高知県 江川崎 41 2013-08-12\\n']\n"
     ]
    }
   ],
   "source": [
    "\"\"\"11. タブをスペースに置換\n",
    "タブ1文字につきスペース1文字に置換せよ．確認にはsedコマンド，trコマンド，もしくはexpandコマンドを用いよ．\"\"\"\n",
    "\n",
    "with open(\"hightemp.txt\", \"r+\") as f:\n",
    "    res = []\n",
    "    for line in f:\n",
    "        line = line.replace(\"\\t\", \" \")\n",
    "        res.append(line)\n",
    "    \n",
    "    print(res)\n",
    "    \n",
    "    with open(\"new.txt\", \"w\") as t:\n",
    "        t.write(\"\".join(res))\n"
   ]
  },
  {
   "cell_type": "code",
   "execution_count": 40,
   "metadata": {},
   "outputs": [
    {
     "name": "stdout",
     "output_type": "stream",
     "text": [
      "['高知県', '江川崎', '41', '2013-08-12\\n']\n",
      "['埼玉県', '熊谷', '40.9', '2007-08-16\\n']\n",
      "['岐阜県', '多治見', '40.9', '2007-08-16\\n']\n",
      "['山形県', '山形', '40.8', '1933-07-25\\n']\n",
      "['山梨県', '甲府', '40.7', '2013-08-10\\n']\n",
      "['和歌山県', 'かつらぎ', '40.6', '1994-08-08\\n']\n",
      "['静岡県', '天竜', '40.6', '1994-08-04\\n']\n",
      "['山梨県', '勝沼', '40.5', '2013-08-10\\n']\n",
      "['埼玉県', '越谷', '40.4', '2007-08-16\\n']\n",
      "['群馬県', '館林', '40.3', '2007-08-16\\n']\n",
      "['群馬県', '上里見', '40.3', '1998-07-04\\n']\n",
      "['愛知県', '愛西', '40.3', '1994-08-05\\n']\n",
      "['千葉県', '牛久', '40.2', '2004-07-20\\n']\n",
      "['静岡県', '佐久間', '40.2', '2001-07-24\\n']\n",
      "['愛媛県', '宇和島', '40.2', '1927-07-22\\n']\n",
      "['山形県', '酒田', '40.1', '1978-08-03\\n']\n",
      "['岐阜県', '美濃', '40', '2007-08-16\\n']\n",
      "['群馬県', '前橋', '40', '2001-07-24\\n']\n",
      "['千葉県', '茂原', '39.9', '2013-08-11\\n']\n",
      "['埼玉県', '鳩山', '39.9', '1997-07-05\\n']\n",
      "['大阪府', '豊中', '39.9', '1994-08-08\\n']\n",
      "['山梨県', '大月', '39.9', '1990-07-19\\n']\n",
      "['山形県', '鶴岡', '39.9', '1978-08-03\\n']\n",
      "['愛知県', '名古屋', '39.9', '1942-08-02高知県', '江川崎', '41', '2013-08-12\\n']\n"
     ]
    }
   ],
   "source": [
    "\"\"\"12. 1列目をcol1.txtに，2列目をcol2.txtに保存\n",
    "各行の1列目だけを抜き出したものをcol1.txtに，2列目だけを抜き出したものをcol2.txtとしてファイルに保存せよ．確認にはcutコマンドを用いよ．\"\"\"\n",
    "\n",
    "with open(\"new.txt\", \"r\") as f:\n",
    "    col1 = []\n",
    "    col2 = []\n",
    "    for line in f:\n",
    "        a = line.split(\" \")\n",
    "        print(a)\n",
    "        col1.append(a[0])\n",
    "        col2.append(a[1])\n",
    "    \n",
    "    with open(\"col1.txt\", \"w\") as c1:\n",
    "        c1.write(\"\\n\".join(col1))\n",
    "\n",
    "    with open(\"col2.txt\", \"w\") as c2:\n",
    "        c2.write(\"\\n\".join(col2))        \n",
    "        \n",
    "        \n",
    "        \n",
    "        \n",
    "        \n",
    "        \n",
    "        "
   ]
  },
  {
   "cell_type": "code",
   "execution_count": 42,
   "metadata": {},
   "outputs": [],
   "source": [
    "\"\"\"13. col1.txtとcol2.txtをマージ\n",
    "12で作ったcol1.txtとcol2.txtを結合し，元のファイルの1列目と2列目をタブ区切りで並べたテキストファイルを作成せよ．確認にはpasteコマンドを用いよ\"\"\"\n",
    "\n",
    "\n",
    "with open(\"col1.txt\", \"r\") as c1:\n",
    "    with open(\"col2.txt\", \"r\") as c2:\n",
    "        \n",
    "\n",
    "\n",
    "\n",
    "\n",
    "\n",
    "\n",
    "\n",
    "# args = ['paste', 'col1.txt', 'col2.txt']\n",
    "# res = subprocess.check_output(args)\n",
    "\n",
    "\n"
   ]
  },
  {
   "cell_type": "code",
   "execution_count": null,
   "metadata": {},
   "outputs": [],
   "source": []
  },
  {
   "cell_type": "code",
   "execution_count": null,
   "metadata": {},
   "outputs": [],
   "source": []
  },
  {
   "cell_type": "code",
   "execution_count": null,
   "metadata": {},
   "outputs": [],
   "source": []
  },
  {
   "cell_type": "code",
   "execution_count": null,
   "metadata": {},
   "outputs": [],
   "source": []
  },
  {
   "cell_type": "code",
   "execution_count": null,
   "metadata": {},
   "outputs": [],
   "source": []
  },
  {
   "cell_type": "code",
   "execution_count": null,
   "metadata": {},
   "outputs": [],
   "source": []
  },
  {
   "cell_type": "code",
   "execution_count": null,
   "metadata": {},
   "outputs": [],
   "source": []
  }
 ],
 "metadata": {
  "kernelspec": {
   "display_name": "Python 3",
   "language": "python",
   "name": "python3"
  },
  "language_info": {
   "codemirror_mode": {
    "name": "ipython",
    "version": 3
   },
   "file_extension": ".py",
   "mimetype": "text/x-python",
   "name": "python",
   "nbconvert_exporter": "python",
   "pygments_lexer": "ipython3",
   "version": "3.6.4"
  }
 },
 "nbformat": 4,
 "nbformat_minor": 2
}
