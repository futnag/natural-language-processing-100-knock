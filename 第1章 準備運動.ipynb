{
 "cells": [
  {
   "cell_type": "markdown",
   "metadata": {},
   "source": [
    "# 言語処理１００本ノック　２０１５　第一章"
   ]
  },
  {
   "cell_type": "code",
   "execution_count": 2,
   "metadata": {},
   "outputs": [
    {
     "name": "stdout",
     "output_type": "stream",
     "text": [
      "desserts\n"
     ]
    }
   ],
   "source": [
    "# 00. 文字列の逆順\n",
    "# 文字列\"stressed\"の文字を逆に（末尾から先頭に向かって）並べた文字列を得よ．\n",
    "\n",
    "a = 'stressed'\n",
    "b = a[::-1]\n",
    "print(b)"
   ]
  },
  {
   "cell_type": "code",
   "execution_count": 3,
   "metadata": {},
   "outputs": [
    {
     "name": "stdout",
     "output_type": "stream",
     "text": [
      "パトカー\n"
     ]
    }
   ],
   "source": [
    "# 01. 「パタトクカシーー」\n",
    "# 「パタトクカシーー」という文字列の1,3,5,7文字目を取り出して連結した文字列を得よ．\n",
    "\n",
    "c = 'パタトクカシーー'\n",
    "d = c[::2]\n",
    "print(d)"
   ]
  },
  {
   "cell_type": "code",
   "execution_count": 10,
   "metadata": {},
   "outputs": [
    {
     "name": "stdout",
     "output_type": "stream",
     "text": [
      "パタトクカシーー\n"
     ]
    }
   ],
   "source": [
    "# 02. 「パトカー」＋「タクシー」＝「パタトクカシーー」\n",
    "# 「パトカー」＋「タクシー」の文字を先頭から交互に連結して文字列「パタトクカシーー」を得よ．\n",
    "p = 'パトカー'\n",
    "t = 'タクシー'\n",
    "\n",
    "e = map(lambda x: \"\".join(x), zip(p, t))\n",
    "f = \"\".join(e)\n",
    "print(f)"
   ]
  },
  {
   "cell_type": "code",
   "execution_count": 13,
   "metadata": {},
   "outputs": [
    {
     "name": "stdout",
     "output_type": "stream",
     "text": [
      "[3, 1, 4, 1, 5, 9, 2, 6, 5, 3, 5, 8, 9, 7, 9]\n"
     ]
    }
   ],
   "source": [
    "# 03. 円周率\n",
    "# \"Now I need a drink, alcoholic of course, after the heavy lectures involving quantum mechanics.\"という文を単語に分解し，各単語の（アルファベットの）文字数を先頭から出現順に並べたリストを作成せよ．\n",
    "\n",
    "s1 = \"Now I need a drink, alcoholic of course, after the heavy lectures involving quantum mechanics.\"\n",
    "s2 = s1.replace(\".\", \"\").replace(\",\", \"\").split(\" \")\n",
    "s3 = list(map(len, s2))\n",
    "print(s3)\n"
   ]
  },
  {
   "cell_type": "code",
   "execution_count": 15,
   "metadata": {},
   "outputs": [
    {
     "name": "stdout",
     "output_type": "stream",
     "text": [
      "{'H': 0, 'He': 1, 'Li': 2, 'Be': 3, 'B': 4, 'C': 5, 'N': 6, 'O': 7, 'F': 8, 'Ne': 9, 'Na': 10, 'Mi': 11, 'Al': 12, 'Si': 13, 'P': 14, 'S': 15, 'Cl': 16, 'Ar': 17, 'K': 18, 'Ca': 19}\n"
     ]
    }
   ],
   "source": [
    "# 04. 元素記号\n",
    "# \"Hi He Lied Because Boron Could Not Oxidize Fluorine. New Nations Might Also Sign Peace Security Clause. Arthur King Can.\"という文を単語に分解し，1, 5, 6, 7, 8, 9, 15, 16, 19番目の単語は先頭の1文字，それ以外の単語は先頭に2文字を取り出し，取り出した文字列から単語の位置（先頭から何番目の単語か）への連想配列（辞書型もしくはマップ型）を作成せよ．\n",
    "\n",
    "string = \"Hi He Lied Because Boron Could Not Oxidize Fluorine. New Nations Might Also Sign Peace Security Clause. Arthur King Can.\"\n",
    "\n",
    "s2 = string.replace(\".\", \"\").split(\" \")\n",
    "nums = [1, 5, 6, 7, 8, 9, 15, 16, 19]\n",
    "\n",
    "result = {}\n",
    "\n",
    "for i in range(len(s2)):\n",
    "    if i+1 in nums:\n",
    "        result[s2[i][0]] = i\n",
    "    else:\n",
    "        result[s2[i][:2]] = i\n",
    "\n",
    "print(result)"
   ]
  },
  {
   "cell_type": "code",
   "execution_count": 24,
   "metadata": {},
   "outputs": [
    {
     "name": "stdout",
     "output_type": "stream",
     "text": [
      "['Ia', 'am', 'ma', 'an', 'nN', 'NL', 'LP', 'Pe', 'er', 'r']\n",
      "[['I', 'am'], ['am', 'an'], ['an', 'NLPer'], ['NLPer']]\n"
     ]
    }
   ],
   "source": [
    "# 05. n-gram\n",
    "# 与えられたシーケンス（文字列やリストなど）からn-gramを作る関数を作成せよ．この関数を用い，\"I am an NLPer\"という文から単語bi-gram，文字bi-gramを得よ．\n",
    "\n",
    "string = \"I am an NLPer\"\n",
    "# string = \"宇宙開発の常識を覆したとも言える成果で、打ち上げコストを下げる画期的な技術として注目されています。\"\n",
    "\n",
    "def make_n_gram(s, n, byWord=True):\n",
    "    if byWord:\n",
    "        s = s.replace(\" \", \"\")\n",
    "    else:\n",
    "        s = s.split(\" \")\n",
    "\n",
    "    res = []\n",
    "    for i in range(len(s)):\n",
    "        res.append(s[i:i+n])\n",
    "    return res\n",
    "        \n",
    "    \n",
    "print(make_n_gram(string, 2))\n",
    "print(make_n_gram(string, 2, False))"
   ]
  },
  {
   "cell_type": "code",
   "execution_count": 32,
   "metadata": {},
   "outputs": [
    {
     "name": "stdout",
     "output_type": "stream",
     "text": [
      "和集合： {'se', 'di', 'is', 'e', 'gr', 'ad', 'h', 'ar', 'ag', 'ra', 'pa', 'ph', 'ap'}\n",
      "積集合： {'ar', 'ra', 'ap', 'pa'}\n",
      "差集合： {'se', 'di', 'is', 'e', 'ad'}\n",
      "no\n"
     ]
    }
   ],
   "source": [
    "# 06. 集合\n",
    "# \"paraparaparadise\"と\"paragraph\"に含まれる文字bi-gramの集合を，それぞれ, XとYとして求め，XとYの和集合，積集合，差集合を求めよ．さらに，'se'というbi-gramがXおよびYに含まれるかどうかを調べよ．\n",
    "\n",
    "a = \"paraparaparadise\"\n",
    "b = \"paragraph\"\n",
    "\n",
    "X = set(make_n_gram(a, 2))\n",
    "Y = set(make_n_gram(b, 2))\n",
    "\n",
    "wa = X|Y\n",
    "seki = X&Y\n",
    "sa = X-Y\n",
    "\n",
    "print(\"和集合：\", wa)\n",
    "print(\"積集合：\", seki)\n",
    "print(\"差集合：\", sa)\n",
    "\n",
    "if 'se' in X and 'se' in Y:\n",
    "    print(\"yes\")\n",
    "else:\n",
    "    print(\"no\")"
   ]
  },
  {
   "cell_type": "code",
   "execution_count": 33,
   "metadata": {},
   "outputs": [
    {
     "name": "stdout",
     "output_type": "stream",
     "text": [
      "12時の気温は22.4\n"
     ]
    }
   ],
   "source": [
    "# 07. テンプレートによる文生成\n",
    "# 引数x, y, zを受け取り「x時のyはz」という文字列を返す関数を実装せよ．さらに，x=12, y=\"気温\", z=22.4として，実行結果を確認せよ．\n",
    "\n",
    "\n",
    "def temp_is(x, y, z):\n",
    "    return \"{}時の{}は{}\".format(x, y, z)\n",
    "\n",
    "ans = temp_is(x=12, y=\"気温\", z=22.4)\n",
    "print(ans)"
   ]
  },
  {
   "cell_type": "code",
   "execution_count": 40,
   "metadata": {},
   "outputs": [
    {
     "name": "stdout",
     "output_type": "stream",
     "text": [
      "Nld I mvvw z wirmp, zoxlslorx lu xlfihv, zugvi gsv svzeb ovxgfivh rmeloermt jfzmgfn nvxszmrxh.\n"
     ]
    }
   ],
   "source": [
    "\"\"\"\n",
    "08. 暗号文\n",
    "与えられた文字列の各文字を，以下の仕様で変換する関数cipherを実装せよ．\n",
    "\n",
    "英小文字ならば(219 - 文字コード)の文字に置換\n",
    "その他の文字はそのまま出力\n",
    "この関数を用い，英語のメッセージを暗号化・復号化せよ．\n",
    "\"\"\"\n",
    "s = \"Now I need a drink, alcoholic of course, after the heavy lectures involving quantum mechanics.\"\n",
    "\n",
    "def cipher(string):\n",
    "    res = []\n",
    "    for s in string:\n",
    "        if s.islower():\n",
    "            res.append(chr(219 - ord(s)))\n",
    "        else:\n",
    "            res.append(s)\n",
    "    return \"\".join(res)\n",
    "\n",
    "print(cipher(s))"
   ]
  },
  {
   "cell_type": "code",
   "execution_count": 58,
   "metadata": {},
   "outputs": [
    {
     "data": {
      "text/plain": [
       "\"I cld'unot belevie that I cluod alaultcy udsanenrtd what I was rndeaig : the pnmehaeonl pwoer of the hamun mind .\""
      ]
     },
     "execution_count": 58,
     "metadata": {},
     "output_type": "execute_result"
    }
   ],
   "source": [
    "\"\"\"09. Typoglycemia\n",
    "スペースで区切られた単語列に対して，各単語の先頭と末尾の文字は残し，それ以外の文字の順序をランダムに並び替えるプログラムを作成せよ．ただし，長さが４以下の単語は並び替えないこととする．適当な英語の文（例えば\"I couldn't believe that I could actually understand what I was reading : the phenomenal power of the human mind .\"）を与え，その実行結果を確認せよ．\"\"\"\n",
    "\n",
    "from random import shuffle\n",
    "\n",
    "s = \"I couldn't believe that I could actually understand what I was reading : the phenomenal power of the human mind .\"\n",
    "\n",
    "def shuffler(string):\n",
    "    string = string.split(\" \")\n",
    "    res = []\n",
    "    for s in string:\n",
    "        if len(s) > 4:\n",
    "            head = s[0]\n",
    "            body = list(s[1:-1])\n",
    "            last = s[-1]\n",
    "            shuffle(body)\n",
    "            body = \"\".join(body)\n",
    "            res.append(\"\".join([head, body, last]))\n",
    "        else:\n",
    "            res.append(s)\n",
    "    return \" \".join(res)\n",
    "        \n",
    "shuffler(s)"
   ]
  },
  {
   "cell_type": "code",
   "execution_count": null,
   "metadata": {},
   "outputs": [],
   "source": []
  }
 ],
 "metadata": {
  "kernelspec": {
   "display_name": "Python 3",
   "language": "python",
   "name": "python3"
  },
  "language_info": {
   "codemirror_mode": {
    "name": "ipython",
    "version": 3
   },
   "file_extension": ".py",
   "mimetype": "text/x-python",
   "name": "python",
   "nbconvert_exporter": "python",
   "pygments_lexer": "ipython3",
   "version": "3.6.4"
  }
 },
 "nbformat": 4,
 "nbformat_minor": 2
}
